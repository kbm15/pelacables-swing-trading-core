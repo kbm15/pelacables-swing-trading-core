{
 "cells": [
  {
   "cell_type": "code",
   "execution_count": 1,
   "metadata": {},
   "outputs": [],
   "source": [
    "import warnings\n",
    "import pandas as pd\n",
    "import numpy as np\n",
    "import yfinance as yf\n",
    "import pandas_ta as ta\n",
    "import plotly.graph_objects as go\n",
    "from plotly.subplots import make_subplots\n",
    "import plotly.io as pio\n",
    "pio.renderers.default = 'iframe'\n",
    "\n",
    "# Suprimir advertencias FutureWarning\n",
    "warnings.simplefilter(action='ignore', category=FutureWarning)"
   ]
  },
  {
   "cell_type": "code",
   "execution_count": 2,
   "metadata": {},
   "outputs": [],
   "source": [
    "def download_data(start, end, ticker):\n",
    "    return yf.download(ticker, start=start, end=end)"
   ]
  },
  {
   "cell_type": "code",
   "execution_count": 3,
   "metadata": {},
   "outputs": [],
   "source": [
    "def calculate_signals(data, indicator):\n",
    "    if indicator == 'SMA':\n",
    "        # Calcular medias móviles simples usando pandas_ta\n",
    "        data['SMA_50'] = ta.sma(data['Close'], length=50)\n",
    "        data['SMA_200'] = ta.sma(data['Close'], length=200)\n",
    "        \n",
    "        # Señales de cruce de medias móviles simples\n",
    "        data['Signal_SMA'] = np.where(data['SMA_50'] > data['SMA_200'], 1, 0)\n",
    "        data['Position'] = data['Signal_SMA'].diff()\n",
    "        data['Position'] = np.where(data['Position'] == 1, 1, np.where(data['Position'] == -1, -1, 0))\n",
    "        \n",
    "    elif indicator == 'EMA':\n",
    "        # Calcular medias móviles exponenciales usando pandas_ta\n",
    "        data['EMA_50'] = ta.ema(data['Close'], length=50)\n",
    "        data['EMA_200'] = ta.ema(data['Close'], length=200)\n",
    "        \n",
    "        # Señales de cruce de medias móviles exponenciales\n",
    "        data['Signal_EMA'] = np.where(data['EMA_50'] > data['EMA_200'], 1, 0)\n",
    "        data['Position'] = data['Signal_EMA'].diff()\n",
    "        data['Position'] = np.where(data['Position'] == 1, 1, np.where(data['Position'] == -1, -1, 0))\n",
    "\n",
    "    elif indicator == 'RSI':\n",
    "        # Calcular RSI\n",
    "        data['RSI'] = ta.rsi(data['Close'], length=14)\n",
    "        \n",
    "        # Señales de RSI\n",
    "        data['RSI_Signal'] = 0\n",
    "        data['RSI_Signal'] = np.where(data['RSI'] < 30, 1, data['RSI_Signal'])  # Señal de compra\n",
    "        data['RSI_Signal'] = np.where(data['RSI'] > 70, -1, data['RSI_Signal'])  # Señal de venta\n",
    "        data['Position'] = data['RSI_Signal']\n",
    "\n",
    "    elif indicator == 'MACD':\n",
    "        # Calcular MACD\n",
    "        data['MACD'] = ta.macd(data['Close'], fast=12, slow=26, signal=9)[0]\n",
    "        data['MACD_Signal'] = ta.macd(data['Close'], fast=12, slow=26, signal=9)[1]\n",
    "        \n",
    "        # Señales de MACD\n",
    "        data['MACD_Signal_Cross'] = np.where(data['MACD'] > data['MACD_Signal'], 1, 0)  # Señal de compra\n",
    "        data['MACD_Signal_Cross'] = np.where(data['MACD'] < data['MACD_Signal'], -1, data['MACD_Signal_Cross'])  # Señal de venta\n",
    "        data['Position'] = data['MACD_Signal_Cross']\n",
    "\n",
    "    elif indicator == 'Bollinger':        \n",
    "        # Calcular Bandas de Bollinger\n",
    "        bbands_result = ta.bbands(data['Close'], length=20, std=2)\n",
    "\n",
    "        # Asignar las columnas al DataFrame 'data' según sea necesario\n",
    "        data['Bollinger_Upper'] = bbands_result['BBU_20_2.0']\n",
    "        data['Bollinger_Middle'] = bbands_result['BBM_20_2.0']\n",
    "        data['Bollinger_Lower'] = bbands_result['BBL_20_2.0']\n",
    "\n",
    "        # Opcionalmente, si necesitas otras columnas como el ancho y la desviación estándar\n",
    "        data['Bollinger_width'] = bbands_result['BBB_20_2.0']\n",
    "        data['Bollinger_std'] = bbands_result['BBP_20_2.0']\n",
    "        \n",
    "        # Señales de Bandas de Bollinger\n",
    "        data['Bollinger_Signal'] = 0\n",
    "        data['Bollinger_Signal'] = np.where(data['Close'] < data['Bollinger_Lower'], 1, data['Bollinger_Signal'])  # Señal de compra\n",
    "        data['Bollinger_Signal'] = np.where(data['Close'] > data['Bollinger_Upper'], -1, data['Bollinger_Signal'])  # Señal de venta\n",
    "        data['Position'] = data['Bollinger_Signal']\n",
    "\n",
    "    elif indicator == 'Stochastic':\n",
    "        # Calcular Oscilador Estocástico\n",
    "        sto_result = ta.stoch(data['High'], data['Low'], data['Close'], k=14, d=3, smooth_k=3)\n",
    "        \n",
    "        # Asignar las columnas al DataFrame 'data' según sea necesario\n",
    "        data['Stoch_K'] = sto_result['STOCHk_14_3_3']\n",
    "        data['Stoch_D'] = sto_result['STOCHd_14_3_3']\n",
    "        \n",
    "        # Señales del Oscilador Estocástico\n",
    "        data['Stoch_Signal'] = 0\n",
    "        data['Stoch_Signal'] = np.where((data['Stoch_K'] < 20) & (data['Stoch_D'] < 20), 1, data['Stoch_Signal'])  # Señal de compra\n",
    "        data['Stoch_Signal'] = np.where((data['Stoch_K'] > 80) & (data['Stoch_D'] > 80), -1, data['Stoch_Signal'])  # Señal de venta\n",
    "        data['Position'] = data['Stoch_Signal']\n",
    "\n",
    "    elif indicator == 'Volume':\n",
    "        # Calcular Media Móvil de Volumen\n",
    "        data['Volume_SMA_20'] = ta.sma(data['Volume'], length=20)\n",
    "        \n",
    "        # Señales de Volumen\n",
    "        data['Volume_Signal'] = 0\n",
    "        data['Volume_Signal'] = np.where(data['Volume'] > data['Volume_SMA_20'], 1, data['Volume_Signal'])  # Señal de compra\n",
    "        data['Volume_Signal'] = np.where(data['Volume'] < data['Volume_SMA_20'], -1, data['Volume_Signal'])  # Señal de venta\n",
    "        data['Position'] = data['Volume_Signal']\n",
    "\n",
    "    else:\n",
    "        raise ValueError(\"El parámetro 'indicator' debe ser 'SMA', 'EMA', 'RSI', 'MACD', 'Bollinger', 'Stochastic' o 'Volume'.\")\n",
    "    \n",
    "    return data\n"
   ]
  },
  {
   "cell_type": "code",
   "execution_count": 4,
   "metadata": {},
   "outputs": [],
   "source": [
    "def simulate_backtesting(data, initial_capital, purchase_fraction, sell_fraction, position_column):\n",
    "    data['Portfolio Value'] = initial_capital\n",
    "    data['Holdings'] = 0.0\n",
    "    data['Cash'] = initial_capital\n",
    "    data['Shares Owned'] = 0.0\n",
    "\n",
    "    for i in range(1, len(data)):\n",
    "        if data[position_column][i] == 1:  # Comprar\n",
    "            amount_to_spend = data['Cash'].iloc[i-1] * purchase_fraction\n",
    "            shares_bought = amount_to_spend / data['Close'][i]\n",
    "            data.loc[data.index[i], 'Holdings'] = data['Holdings'].iloc[i-1] + shares_bought\n",
    "            data.loc[data.index[i], 'Cash'] = data['Cash'].iloc[i-1] - shares_bought * data['Close'][i]\n",
    "        elif data[position_column][i] == -1:  # Vender\n",
    "            shares_to_sell = data['Holdings'].iloc[i-1] * sell_fraction\n",
    "            data.loc[data.index[i], 'Cash'] = data['Cash'].iloc[i-1] + shares_to_sell * data['Close'][i]\n",
    "            data.loc[data.index[i], 'Holdings'] = data['Holdings'].iloc[i-1] - shares_to_sell\n",
    "        else:  # Mantener\n",
    "            data.loc[data.index[i], 'Holdings'] = data['Holdings'].iloc[i-1]\n",
    "            data.loc[data.index[i], 'Cash'] = data['Cash'].iloc[i-1]\n",
    "\n",
    "        data.loc[data.index[i], 'Portfolio Value'] = data['Cash'][i] + data['Holdings'][i] * data['Close'][i]\n",
    "        data.loc[data.index[i], 'Shares Owned'] = data['Holdings'][i]\n",
    "\n",
    "    final_portfolio_value = data['Portfolio Value'].iloc[-1]\n",
    "    total_return = (final_portfolio_value - initial_capital) / initial_capital * 100\n",
    "    return final_portfolio_value, total_return, data"
   ]
  },
  {
   "cell_type": "code",
   "execution_count": 5,
   "metadata": {},
   "outputs": [],
   "source": [
    "import plotly.graph_objects as go\n",
    "from plotly.subplots import make_subplots\n",
    "\n",
    "def plot_results(data, indicator, ticker):\n",
    "    # Asegurarse de que no hay NaN en las columnas que se van a plotear\n",
    "    required_columns = ['Close', 'Portfolio Value', 'Shares Owned']\n",
    "    \n",
    "    # Añadir columnas específicas para cada indicador según las señales generadas\n",
    "    if indicator in ['SMA', 'EMA']:\n",
    "        required_columns += [f'{indicator}_50', f'{indicator}_200', 'Position']\n",
    "    elif indicator == 'RSI':\n",
    "        required_columns += ['RSI', 'Position']\n",
    "    elif indicator == 'MACD':\n",
    "        required_columns += ['MACD', 'MACD_Signal_Cross', 'Position']\n",
    "    elif indicator == 'Bollinger':\n",
    "        required_columns += ['Bollinger_Upper', 'Bollinger_Middle', 'Bollinger_Lower', 'Position']\n",
    "    elif indicator == 'Stochastic':\n",
    "        required_columns += ['Stoch_K', 'Stoch_D', 'Position']\n",
    "    elif indicator == 'Volume':\n",
    "        required_columns += ['Volume', 'Volume_Signal', 'Position']\n",
    "    \n",
    "    # Eliminar filas con NaN en columnas requeridas\n",
    "    data = data.dropna(subset=required_columns)\n",
    "\n",
    "    # Visualización de resultados con Plotly\n",
    "    fig = make_subplots(rows=2, cols=1, shared_xaxes=True, vertical_spacing=0.1,\n",
    "                        row_heights=[1, 1],\n",
    "                        specs=[[{\"secondary_y\": True}]] * 2)  # Especificación para todos los subgráficos con secondary_y=True\n",
    "\n",
    "    # Gráfico de precios y indicador seleccionado\n",
    "    fig.add_trace(go.Scatter(x=data.index, y=data['Close'], mode='lines', name='Precio de Cierre', line=dict(color='blue')), row=1, col=1, secondary_y=False)\n",
    "    \n",
    "    # Añadir gráficos específicos para cada indicador\n",
    "    if indicator in ['SMA', 'EMA']:\n",
    "        fig.add_trace(go.Scatter(x=data.index, y=data[f'{indicator}_50'], mode='lines', name=f'{indicator} de 50 días', line=dict(color='orange')), row=1, col=1, secondary_y=True)\n",
    "        fig.add_trace(go.Scatter(x=data.index, y=data[f'{indicator}_200'], mode='lines', name=f'{indicator} de 200 días', line=dict(color='green')), row=1, col=1, secondary_y=True)\n",
    "        \n",
    "    elif indicator == 'RSI':\n",
    "        fig.add_trace(go.Scatter(x=data.index, y=data['RSI'], mode='lines', name='RSI', line=dict(color='purple')), row=1, col=1, secondary_y=True)\n",
    "        \n",
    "    elif indicator == 'MACD':\n",
    "        fig.add_trace(go.Scatter(x=data.index, y=data['MACD'], mode='lines', name='MACD', line=dict(color='red')), row=1, col=1, secondary_y=True)\n",
    "        fig.add_trace(go.Scatter(x=data.index, y=data['MACD_Signal_Cross'], mode='lines', name='MACD Signal', line=dict(color='blue')), row=1, col=1, secondary_y=True)\n",
    "        \n",
    "    elif indicator == 'Bollinger':\n",
    "        fig.add_trace(go.Scatter(x=data.index, y=data['Bollinger_Upper'], mode='lines', name='Bollinger Upper', line=dict(color='orange')), row=1, col=1, secondary_y=True)\n",
    "        fig.add_trace(go.Scatter(x=data.index, y=data['Bollinger_Middle'], mode='lines', name='Bollinger Middle', line=dict(color='purple')), row=1, col=1, secondary_y=True)\n",
    "        fig.add_trace(go.Scatter(x=data.index, y=data['Bollinger_Lower'], mode='lines', name='Bollinger Lower', line=dict(color='green')), row=1, col=1, secondary_y=True)\n",
    "        \n",
    "    elif indicator == 'Stochastic':\n",
    "        fig.add_trace(go.Scatter(x=data.index, y=data['Stoch_K'], mode='lines', name='Stochastic K', line=dict(color='orange')), row=1, col=1, secondary_y=True)\n",
    "        fig.add_trace(go.Scatter(x=data.index, y=data['Stoch_D'], mode='lines', name='Stochastic D', line=dict(color='purple')), row=1, col=1, secondary_y=True)\n",
    "        \n",
    "    elif indicator == 'Volume':\n",
    "        fig.add_trace(go.Scatter(x=data.index, y=data['Volume'], mode='lines', name='Volumen', line=dict(color='green')), row=1, col=1, secondary_y=True)\n",
    "        \n",
    "    # Señales de compra y venta para el indicador seleccionado\n",
    "    if 'Position' in data.columns:\n",
    "        if indicator in ['SMA', 'EMA']:\n",
    "            fig.add_trace(go.Scatter(x=data[data['Position'] == 1].index, y=data[f'{indicator}_50'][data['Position'] == 1], mode='markers', marker_symbol='triangle-up', marker_color='green', marker_size=10, name=f'Señal de Compra ({indicator})'), row=1, col=1)\n",
    "            fig.add_trace(go.Scatter(x=data[data['Position'] == -1].index, y=data[f'{indicator}_50'][data['Position'] == -1], mode='markers', marker_symbol='triangle-down', marker_color='red', marker_size=10, name=f'Señal de Venta ({indicator})'), row=1, col=1)\n",
    "        else:\n",
    "            # Para otros indicadores donde no se usa {indicator}_50\n",
    "            fig.add_trace(go.Scatter(x=data[data['Position'] == 1].index, y=data['Close'][data['Position'] == 1], mode='markers', marker_symbol='triangle-up', marker_color='green', marker_size=10, name=f'Señal de Compra ({indicator})'), row=1, col=1)\n",
    "            fig.add_trace(go.Scatter(x=data[data['Position'] == -1].index, y=data['Close'][data['Position'] == -1], mode='markers', marker_symbol='triangle-down', marker_color='red', marker_size=10, name=f'Señal de Venta ({indicator})'), row=1, col=1)\n",
    "\n",
    "    # Gráfico del valor de la cartera y acciones poseídas para el indicador seleccionado\n",
    "    fig.add_trace(go.Scatter(x=data.index, y=data['Portfolio Value'], mode='lines', name=f'Valor de la Cartera ({indicator})', line=dict(color='purple')), row=2, col=1, secondary_y=False)\n",
    "    fig.add_trace(go.Scatter(x=data.index, y=data['Shares Owned'], mode='lines', name=f'Acciones Poseídas ({indicator})', line=dict(color='black')), row=2, col=1, secondary_y=True)\n",
    "\n",
    "    # Actualizar diseño del gráfico\n",
    "    fig.update_layout(title=f'Estrategia de Trading de {ticker} con {indicator}', xaxis_title='Fecha', template='plotly_white')\n",
    "    fig.update_yaxes(title_text='Precio', row=1, col=1, secondary_y=False)\n",
    "    fig.update_yaxes(title_text='Indicador', row=1, col=1, secondary_y=True)\n",
    "    fig.update_yaxes(title_text='Valor de la Cartera', row=2, col=1, secondary_y=False)\n",
    "    fig.update_yaxes(title_text='Acciones Poseídas', row=2, col=1, secondary_y=True)\n",
    "\n",
    "    fig.show()\n"
   ]
  },
  {
   "cell_type": "code",
   "execution_count": 6,
   "metadata": {},
   "outputs": [],
   "source": [
    "def backtest_strategy(start, end,initial_capital, ticker, purchase_fraction, sell_fraction, indicator):\n",
    "    # Descargar datos y calcular señales\n",
    "    data = download_data(start, end, ticker)\n",
    "    data = calculate_signals(data.copy(), indicator=indicator)\n",
    "\n",
    "    # Simulación\n",
    "    final_value, total_return, data_backtesting = simulate_backtesting(data.copy(),\n",
    "                                                                       initial_capital,\n",
    "                                                                       purchase_fraction,\n",
    "                                                                       sell_fraction,\n",
    "                                                                       'Position')\n",
    "\n",
    "    # Plotear resultados\n",
    "    plot_results(data_backtesting, indicator, ticker)\n",
    "\n",
    "    return final_value, total_return"
   ]
  },
  {
   "cell_type": "code",
   "execution_count": 7,
   "metadata": {},
   "outputs": [
    {
     "name": "stderr",
     "output_type": "stream",
     "text": [
      "[*********************100%%**********************]  1 of 1 completed\n"
     ]
    },
    {
     "data": {
      "text/html": [
       "<iframe\n",
       "    scrolling=\"no\"\n",
       "    width=\"100%\"\n",
       "    height=\"545px\"\n",
       "    src=\"iframe_figures/figure_7.html\"\n",
       "    frameborder=\"0\"\n",
       "    allowfullscreen\n",
       "></iframe>\n"
      ]
     },
     "metadata": {},
     "output_type": "display_data"
    },
    {
     "name": "stdout",
     "output_type": "stream",
     "text": [
      "Valor final de la cartera (Stochastic): $1256.47\n",
      "Retorno total (Stochastic): 25.65%\n"
     ]
    }
   ],
   "source": [
    "'''\n",
    "'SMA': Medias Móviles Simples.\n",
    "'EMA': Medias Móviles Exponenciales.\n",
    "'RSI': Índice de Fuerza Relativa.\n",
    "'MACD': Convergencia/Divergencia de Medias Móviles.\n",
    "'Bollinger': Bandas de Bollinger.\n",
    "'Stochastic': Oscilador Estocástico.\n",
    "'Volume': Volumen.\n",
    "'''\n",
    "\n",
    "start= '2023-01-01'\n",
    "end= '2024-01-01'\n",
    "initial_capital = 1000\n",
    "purchase_fraction = 0.80  # 60% del capital para compras\n",
    "sell_fraction = 0.60  # 60% del capital para ventas\n",
    "ticker = 'AAPL'\n",
    "indicator='Stochastic'\n",
    "\n",
    "final_value, total_return = backtest_strategy(start,\n",
    "                                              end,\n",
    "                                              initial_capital,\n",
    "                                              ticker,\n",
    "                                              purchase_fraction,\n",
    "                                              sell_fraction,\n",
    "                                              indicator)\n",
    "\n",
    "print(f'Valor final de la cartera ({indicator}): ${final_value:.2f}')\n",
    "print(f'Retorno total ({indicator}): {total_return:.2f}%')"
   ]
  },
  {
   "cell_type": "code",
   "execution_count": 9,
   "metadata": {},
   "outputs": [
    {
     "name": "stderr",
     "output_type": "stream",
     "text": [
      "[*********************100%%**********************]  1 of 1 completed\n"
     ]
    },
    {
     "data": {
      "text/html": [
       "<iframe\n",
       "    scrolling=\"no\"\n",
       "    width=\"100%\"\n",
       "    height=\"545px\"\n",
       "    src=\"iframe_figures/figure_9.html\"\n",
       "    frameborder=\"0\"\n",
       "    allowfullscreen\n",
       "></iframe>\n"
      ]
     },
     "metadata": {},
     "output_type": "display_data"
    },
    {
     "name": "stderr",
     "output_type": "stream",
     "text": [
      "[*********************100%%**********************]  1 of 1 completed"
     ]
    },
    {
     "name": "stdout",
     "output_type": "stream",
     "text": [
      "Valor final de la cartera (SMA): $1075.93\n",
      "Retorno total (SMA): 7.59%\n",
      "\n"
     ]
    },
    {
     "name": "stderr",
     "output_type": "stream",
     "text": [
      "\n"
     ]
    },
    {
     "data": {
      "text/html": [
       "<iframe\n",
       "    scrolling=\"no\"\n",
       "    width=\"100%\"\n",
       "    height=\"545px\"\n",
       "    src=\"iframe_figures/figure_9.html\"\n",
       "    frameborder=\"0\"\n",
       "    allowfullscreen\n",
       "></iframe>\n"
      ]
     },
     "metadata": {},
     "output_type": "display_data"
    },
    {
     "name": "stderr",
     "output_type": "stream",
     "text": [
      "[*********************100%%**********************]  1 of 1 completed"
     ]
    },
    {
     "name": "stdout",
     "output_type": "stream",
     "text": [
      "Valor final de la cartera (EMA): $1075.93\n",
      "Retorno total (EMA): 7.59%\n",
      "\n"
     ]
    },
    {
     "name": "stderr",
     "output_type": "stream",
     "text": [
      "\n"
     ]
    },
    {
     "data": {
      "text/html": [
       "<iframe\n",
       "    scrolling=\"no\"\n",
       "    width=\"100%\"\n",
       "    height=\"545px\"\n",
       "    src=\"iframe_figures/figure_9.html\"\n",
       "    frameborder=\"0\"\n",
       "    allowfullscreen\n",
       "></iframe>\n"
      ]
     },
     "metadata": {},
     "output_type": "display_data"
    },
    {
     "name": "stderr",
     "output_type": "stream",
     "text": [
      "[*********************100%%**********************]  1 of 1 completed\n",
      "[*********************100%%**********************]  1 of 1 completed"
     ]
    },
    {
     "name": "stdout",
     "output_type": "stream",
     "text": [
      "Valor final de la cartera (RSI): $1063.48\n",
      "Retorno total (RSI): 6.35%\n",
      "\n",
      "Ocurrió un error al procesar el indicador MACD: 0\n",
      "Saltando al siguiente indicador...\n",
      "\n"
     ]
    },
    {
     "name": "stderr",
     "output_type": "stream",
     "text": [
      "\n"
     ]
    },
    {
     "data": {
      "text/html": [
       "<iframe\n",
       "    scrolling=\"no\"\n",
       "    width=\"100%\"\n",
       "    height=\"545px\"\n",
       "    src=\"iframe_figures/figure_9.html\"\n",
       "    frameborder=\"0\"\n",
       "    allowfullscreen\n",
       "></iframe>\n"
      ]
     },
     "metadata": {},
     "output_type": "display_data"
    },
    {
     "name": "stderr",
     "output_type": "stream",
     "text": [
      "[*********************100%%**********************]  1 of 1 completed"
     ]
    },
    {
     "name": "stdout",
     "output_type": "stream",
     "text": [
      "Valor final de la cartera (Bollinger): $1138.09\n",
      "Retorno total (Bollinger): 13.81%\n",
      "\n"
     ]
    },
    {
     "name": "stderr",
     "output_type": "stream",
     "text": [
      "\n"
     ]
    },
    {
     "data": {
      "text/html": [
       "<iframe\n",
       "    scrolling=\"no\"\n",
       "    width=\"100%\"\n",
       "    height=\"545px\"\n",
       "    src=\"iframe_figures/figure_9.html\"\n",
       "    frameborder=\"0\"\n",
       "    allowfullscreen\n",
       "></iframe>\n"
      ]
     },
     "metadata": {},
     "output_type": "display_data"
    },
    {
     "name": "stderr",
     "output_type": "stream",
     "text": [
      "[*********************100%%**********************]  1 of 1 completed"
     ]
    },
    {
     "name": "stdout",
     "output_type": "stream",
     "text": [
      "Valor final de la cartera (Stochastic): $1256.47\n",
      "Retorno total (Stochastic): 25.65%\n",
      "\n"
     ]
    },
    {
     "name": "stderr",
     "output_type": "stream",
     "text": [
      "\n"
     ]
    },
    {
     "data": {
      "text/html": [
       "<iframe\n",
       "    scrolling=\"no\"\n",
       "    width=\"100%\"\n",
       "    height=\"545px\"\n",
       "    src=\"iframe_figures/figure_9.html\"\n",
       "    frameborder=\"0\"\n",
       "    allowfullscreen\n",
       "></iframe>\n"
      ]
     },
     "metadata": {},
     "output_type": "display_data"
    },
    {
     "name": "stdout",
     "output_type": "stream",
     "text": [
      "Valor final de la cartera (Volume): $1118.54\n",
      "Retorno total (Volume): 11.85%\n",
      "\n"
     ]
    }
   ],
   "source": [
    "# Lista de todos los indicadores a probar\n",
    "indicadores = ['SMA', 'EMA', 'RSI', 'MACD', 'Bollinger', 'Stochastic', 'Volume']\n",
    "\n",
    "# Parámetros comunes para el backtest\n",
    "start= '2023-01-01'\n",
    "end= '2024-01-01'\n",
    "initial_capital = 1000\n",
    "purchase_fraction = 0.80  # 80% del capital para compras\n",
    "sell_fraction = 0.60  # 60% del capital para ventas\n",
    "ticker = 'AAPL'\n",
    "\n",
    "# Bucle para probar todos los indicadores\n",
    "for indicator in indicadores:\n",
    "    try:\n",
    "        # Ejecutar el backtest para el indicador actual\n",
    "        final_value, total_return = backtest_strategy(start,\n",
    "                                                      end,\n",
    "                                                      initial_capital,\n",
    "                                                      ticker,\n",
    "                                                      purchase_fraction,\n",
    "                                                      sell_fraction,\n",
    "                                                      indicator)\n",
    "\n",
    "        # Imprimir los resultados del backtest para el indicador actual\n",
    "        print(f'Valor final de la cartera ({indicator}): ${final_value:.2f}')\n",
    "        print(f'Retorno total ({indicator}): {total_return:.2f}%')\n",
    "        print()  # Salto de línea para separar los resultados de diferentes indicadores\n",
    "\n",
    "    except Exception as e:\n",
    "        print(f'Ocurrió un error al procesar el indicador {indicator}: {str(e)}')\n",
    "        print(f'Saltando al siguiente indicador...\\n')\n"
   ]
  }
 ],
 "metadata": {
  "kernelspec": {
   "display_name": "myenv",
   "language": "python",
   "name": "myenv"
  },
  "language_info": {
   "codemirror_mode": {
    "name": "ipython",
    "version": 3
   },
   "file_extension": ".py",
   "mimetype": "text/x-python",
   "name": "python",
   "nbconvert_exporter": "python",
   "pygments_lexer": "ipython3",
   "version": "3.11.5"
  }
 },
 "nbformat": 4,
 "nbformat_minor": 4
}
