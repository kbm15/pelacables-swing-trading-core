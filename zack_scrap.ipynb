{
 "cells": [
  {
   "cell_type": "code",
   "execution_count": 50,
   "metadata": {},
   "outputs": [],
   "source": [
    "from selenium import webdriver\n",
    "from selenium.webdriver.common.by import By\n",
    "from selenium.webdriver.common.keys import Keys\n",
    "from bs4 import BeautifulSoup\n",
    "import time\n",
    "from selenium.common.exceptions import NoSuchElementException\n"
   ]
  },
  {
   "cell_type": "code",
   "execution_count": 35,
   "metadata": {},
   "outputs": [],
   "source": [
    "# Configura el controlador del navegador (asegúrate de que chromedriver esté en tu PATH)\n",
    "driver = webdriver.Chrome()\n",
    "\n",
    "# Abre la página web\n",
    "driver.get('https://www.zacks.com/')\n",
    "\n",
    "# Espera a que la página se cargue completamente\n",
    "time.sleep(5)  # Puedes ajustar el tiempo de espera según sea necesario"
   ]
  },
  {
   "cell_type": "code",
   "execution_count": 36,
   "metadata": {},
   "outputs": [],
   "source": [
    "# Encuentra el botón \"Leer más para aceptar las preferencias 1/3\" y haz clic en él\n",
    "button = driver.find_element(By.XPATH, \"//button[@class='Button__StyledButton-a1qza5-0 fLZgds']\")\n",
    "button.click()\n",
    "\n",
    "# Espera un poco para que la página se actualice después de hacer clic en el botón\n",
    "time.sleep(2)"
   ]
  },
  {
   "cell_type": "code",
   "execution_count": 37,
   "metadata": {},
   "outputs": [],
   "source": [
    "# Encuentra el botón \"Rechazar todo\" y haz clic en él\n",
    "button = driver.find_element(By.XPATH, \"//button[@class='Button__StyledButton-a1qza5-0 fcQwZX']\")\n",
    "button.click()\n",
    "\n",
    "# Espera un poco para que la página se actualice después de hacer clic en el botón\n",
    "time.sleep(2)"
   ]
  },
  {
   "cell_type": "code",
   "execution_count": 38,
   "metadata": {},
   "outputs": [],
   "source": [
    "# Escribe \"microsoft\" en el campo de búsqueda utilizando un XPath absoluto\n",
    "search_box = driver.find_element(By.XPATH, '//*[@id=\"search-q\"]')\n",
    "search_box.click()\n",
    "search_box.send_keys('microsoft')\n",
    "\n",
    "# Espera un poco para asegurar que se complete la escritura en el campo de búsqueda\n",
    "time.sleep(2)"
   ]
  },
  {
   "cell_type": "code",
   "execution_count": 39,
   "metadata": {},
   "outputs": [],
   "source": [
    "# Encuentra el primer elemento de la lista utilizando su ID\n",
    "first_item = driver.find_element(By.XPATH, \"//li[@role='option'][1]\")\n",
    "\n",
    "# Haz clic en el primer elemento de la lista\n",
    "first_item.click()"
   ]
  },
  {
   "cell_type": "code",
   "execution_count": 40,
   "metadata": {},
   "outputs": [
    {
     "name": "stdout",
     "output_type": "stream",
     "text": [
      "['Earnings ESP\\nMore Info', '-1.61%']\n",
      "['Most Accurate Est', '2.85']\n",
      "['Current Qtr Est', '2.90']\n",
      "['Current Yr Est', '11.77']\n",
      "['Exp Earnings Date\\nMore Info', '7/23/24']\n",
      "['Prior Year EPS', '9.81']\n",
      "['Exp EPS Growth (3-5yr)', '16.10%']\n",
      "['Forward PE', '36.01']\n",
      "['PEG Ratio', '2.24']\n"
     ]
    }
   ],
   "source": [
    "# Encuentra la sección de datos clave de ganancias\n",
    "key_earnings_section = driver.find_element(By.ID, 'stock_key_earnings')\n",
    "\n",
    "# Encuentra todos los elementos dl dentro de la sección\n",
    "dl_elements = key_earnings_section.find_elements(By.TAG_NAME, 'dl')\n",
    "\n",
    "# Inicializa una lista para almacenar los datos de la tabla\n",
    "table_data = []\n",
    "\n",
    "# Itera sobre cada elemento dl\n",
    "for dl in dl_elements:\n",
    "    # Encuentra el texto del elemento dt\n",
    "    dt_text = dl.find_element(By.TAG_NAME, 'dt').text\n",
    "    # Encuentra el texto del elemento dd\n",
    "    dd_text = dl.find_element(By.TAG_NAME, 'dd').text\n",
    "    # Agrega los datos a la tabla\n",
    "    table_data.append([dt_text, dd_text])\n",
    "\n",
    "# Imprime la tabla\n",
    "for row in table_data:\n",
    "    print(row)"
   ]
  },
  {
   "cell_type": "code",
   "execution_count": 54,
   "metadata": {},
   "outputs": [
    {
     "name": "stdout",
     "output_type": "stream",
     "text": [
      "Zacks Rank: Hold 3\n",
      "Zacks Industry Rank: Top 30% (75 out of 248)\n",
      "Zacks Sector Rank: Bottom 31% (11 out of 16)\n",
      "Style Scores\n",
      "D Value | B Growth | C Momentum | C VGM: No se encontró información\n",
      "Earnings ESP: -1.61%\n",
      "Research Reports for MSFT: Analyst | Snapshot\n"
     ]
    }
   ],
   "source": [
    "# Encuentra el div con el XPath proporcionado\n",
    "div_element = driver.find_element(By.XPATH, '//*[@id=\"premium_research\"]/div')\n",
    "\n",
    "# Encuentra todos los elementos dl dentro del div\n",
    "dl_elements = div_element.find_elements(By.TAG_NAME, 'dl')\n",
    "\n",
    "# Inicializa una lista para almacenar los datos de la tabla\n",
    "table_data = []\n",
    "\n",
    "# Itera sobre los elementos dl y extrae la información\n",
    "for dl in dl_elements:\n",
    "    # Encuentra el texto del dt\n",
    "    dt_text = dl.find_element(By.TAG_NAME, 'dt').text.replace(\"\\nMore Info\", \"\")\n",
    "    \n",
    "    # Intenta encontrar el texto del dd\n",
    "    try:\n",
    "        dd_text = dl.find_element(By.TAG_NAME, 'dd').text\n",
    "    except NoSuchElementException:\n",
    "        dd_text = \"No se encontró información\"\n",
    "    \n",
    "    # Agrega los datos a la lista de la tabla\n",
    "    table_data.append((dt_text, dd_text))\n",
    "\n",
    "# Imprime los datos de la tabla\n",
    "for dt, dd in table_data:\n",
    "    print(f\"{dt}: {dd}\")"
   ]
  },
  {
   "cell_type": "code",
   "execution_count": null,
   "metadata": {},
   "outputs": [],
   "source": []
  },
  {
   "cell_type": "code",
   "execution_count": null,
   "metadata": {},
   "outputs": [],
   "source": []
  }
 ],
 "metadata": {
  "kernelspec": {
   "display_name": "myenv",
   "language": "python",
   "name": "myenv"
  },
  "language_info": {
   "codemirror_mode": {
    "name": "ipython",
    "version": 3
   },
   "file_extension": ".py",
   "mimetype": "text/x-python",
   "name": "python",
   "nbconvert_exporter": "python",
   "pygments_lexer": "ipython3",
   "version": "3.11.5"
  }
 },
 "nbformat": 4,
 "nbformat_minor": 4
}
